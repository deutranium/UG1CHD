{
 "cells": [
  {
   "cell_type": "markdown",
   "metadata": {},
   "source": [
    "### Introduction to Twitter\n",
    "\n",
    "#### What is Twitter?\n",
    "Twitter is a micro-blogging social network website, where users post 280 (previously 140) characters long messages called 'Tweets'.\n",
    "\n",
    "Link : https://twitter.com/\n",
    "___\n"
   ]
  },
  {
   "cell_type": "markdown",
   "metadata": {},
   "source": [
    "#### User actions on Twitter\n",
    "> - Tweet -- Post a message with image/video and text within 240 characters on Twitter.\n",
    "> - Retweet -- Retweet or share a tweet made by another user within Twitter.\n",
    "> - Reply -- Post a message in respose to another user's tweet.\n",
    "> - Mentions -- Tag another user in his/her tweet or reply.\n",
    "> - Hashtag -- Another tag used to link to a topic or event.\n",
    "> - Follow -- Follow or subscribe to a user's tweets. A Follower is a user that follows, and the user that is being followed in followee.\n",
    "> - Search -- To search for tweets posted by other accounts based on a query."
   ]
  },
  {
   "cell_type": "markdown",
   "metadata": {},
   "source": [
    "#### Twitter API\n",
    "Twitter provides an application programming interface (API) [1]. The API allows us to interact with the social media in many ways, like get user tweets, message users, search for tweets etc.\n",
    "\n",
    "#### How does one use the API?\n",
    "To use the API to do any of the above mentioned actions, the user needs to create a Twitter Developer App and get the following keys:\n",
    "\n",
    "#### Customer Key\n",
    "> - Consumer Secret\n",
    "> - Access Token\n",
    "> - Access Token Secret\n",
    "> - These are necessary for the authentication process with the API.\n",
    "\n",
    "#### How can I collect data from the API?\n",
    "The API has various endpoints to perform various actions. We will primarily be focussing on Search and Streaming.\n",
    "\n",
    "#### API rate limits\n",
    "The Twitter API is rate limited in order to avoid the API hits hampering with the behaviour of the social network.\n",
    "\n",
    "#### Libraries used\n",
    "> - Tweepy\n",
    "> - jsonpickle\n"
   ]
  },
  {
   "cell_type": "code",
   "execution_count": 1,
   "metadata": {},
   "outputs": [],
   "source": [
    "import tweepy\n",
    "from pprint import pprint #for printing the Tweet in a format \n",
    "import jsonpickle #for creating a pickle file for storing the tweets\n",
    "#for getting Stream of Data\n",
    "from tweepy import Stream\n",
    "from tweepy.streaming import StreamListener\n",
    "import json\n",
    "\n",
    "import plotly.express as px\n",
    "import plotly.graph_objects as go\n",
    "\n",
    "from wordcloud import WordCloud, STOPWORDS\n",
    "from PIL import Image\n",
    "import numpy as np\n",
    "import re\n",
    "from matplotlib import pyplot as plt\n",
    "\n",
    "\n",
    "\n",
    "\n",
    "#for NLP\n",
    "import nltk #nltk.download('punkt')   nltk.download('stopwords') nltk.download('wordnet') nltk.download('averaged_perceptron_tagger')\n",
    "\n",
    "\n",
    "\n"
   ]
  },
  {
   "cell_type": "code",
   "execution_count": 2,
   "metadata": {},
   "outputs": [
    {
     "name": "stdout",
     "output_type": "stream",
     "text": [
      "Authentication successfull!!! :D\n"
     ]
    }
   ],
   "source": [
    "#Consumer Key (API Key), Consumer Secret (API Secret)\n",
    "auth = tweepy.OAuthHandler('WaVIYiWLULDMQx0Nt1I53q9Lv','cmm4NQDCSm0TpjTM9dFXhgzJyohccFe8aHDE4cMFUr0r40UDAi')\n",
    "# Access Token, Access Token Secret\n",
    "auth.set_access_token('1211972222-UovQvyUTZL7Js7ZCZiD3tHqPfM7bA1CHYlQBwRU','u9urF8WfWVtCZLhpa3FbKS5ma73X7F84CdF1SC8bRiqIo')\n",
    "\n",
    "api = tweepy.API(auth)\n",
    "if (not api):\n",
    "    print(\"Authentication failed :(\")\n",
    "else:\n",
    "    print(\"Authentication successfull!!! :D\")"
   ]
  },
  {
   "cell_type": "code",
   "execution_count": 3,
   "metadata": {},
   "outputs": [],
   "source": [
    "query = '#coronavirusindia'  # this is what we're searching for\n",
    "en_lang = 'en' # this is used to specify the language of the tweets\n",
    "popular_results = 'popular' # used to specifiy the order of tweet results. Accepted values: popular|recent|mixec\n",
    "extended_mode = 'extended' # used to tell the API not to truncate the tweet"
   ]
  },
  {
   "cell_type": "code",
   "execution_count": 4,
   "metadata": {},
   "outputs": [],
   "source": [
    "#Query the endpoint\n",
    "search_results = api.search(q=query, lang=en_lang, result_type=popular_results, \n",
    "                            tweet_mode=extended_mode)"
   ]
  },
  {
   "cell_type": "code",
   "execution_count": 5,
   "metadata": {},
   "outputs": [
    {
     "name": "stdout",
     "output_type": "stream",
     "text": [
      "{'contributors': None,\n",
      " 'coordinates': None,\n",
      " 'created_at': 'Tue Mar 03 08:09:20 +0000 2020',\n",
      " 'display_text_range': [0, 228],\n",
      " 'entities': {'hashtags': [{'indices': [211, 228], 'text': 'coronavirusindia'}],\n",
      "              'symbols': [],\n",
      "              'urls': [{'display_url': 'twitter.com/rahulgandhi/st…',\n",
      "                        'expanded_url': 'https://twitter.com/rahulgandhi/status/1227536939479228417',\n",
      "                        'indices': [229, 252],\n",
      "                        'url': 'https://t.co/SuEvqMFbQd'}],\n",
      "              'user_mentions': []},\n",
      " 'favorite_count': 20142,\n",
      " 'favorited': False,\n",
      " 'full_text': 'There are moments in the life of every nation when its leaders '\n",
      "              'are tested. A true leader would be completely focused on '\n",
      "              'averting the massive crisis about to be unleashed by the virus '\n",
      "              'on India and its economy. \\n'\n",
      "              '\\n'\n",
      "              '#coronavirusindia https://t.co/SuEvqMFbQd',\n",
      " 'geo': None,\n",
      " 'id': 1234752707883175941,\n",
      " 'id_str': '1234752707883175941',\n",
      " 'in_reply_to_screen_name': None,\n",
      " 'in_reply_to_status_id': None,\n",
      " 'in_reply_to_status_id_str': None,\n",
      " 'in_reply_to_user_id': None,\n",
      " 'in_reply_to_user_id_str': None,\n",
      " 'is_quote_status': True,\n",
      " 'lang': 'en',\n",
      " 'metadata': {'iso_language_code': 'en', 'result_type': 'popular'},\n",
      " 'place': None,\n",
      " 'possibly_sensitive': False,\n",
      " 'quoted_status': {'contributors': None,\n",
      "                   'coordinates': None,\n",
      "                   'created_at': 'Wed Feb 12 10:16:27 +0000 2020',\n",
      "                   'display_text_range': [0, 211],\n",
      "                   'entities': {'hashtags': [{'indices': [173, 185],\n",
      "                                              'text': 'coronavirus'}],\n",
      "                                'symbols': [],\n",
      "                                'urls': [{'display_url': 'news.harvard.edu/gazette/story/…',\n",
      "                                          'expanded_url': 'https://news.harvard.edu/gazette/story/2020/02/as-confirmed-cases-of-coronavirus-surge-path-grows-uncertain/',\n",
      "                                          'indices': [188, 211],\n",
      "                                          'url': 'https://t.co/bspz4l1tFM'}],\n",
      "                                'user_mentions': []},\n",
      "                   'favorite_count': 28383,\n",
      "                   'favorited': False,\n",
      "                   'full_text': 'The Corona Virus is an extremely serious '\n",
      "                                'threat to our people and our economy. My '\n",
      "                                'sense is the government is not taking this '\n",
      "                                'threat seriously. \\n'\n",
      "                                '\\n'\n",
      "                                'Timely action is critical.\\n'\n",
      "                                '\\n'\n",
      "                                '#coronavirus \\n'\n",
      "                                '\\n'\n",
      "                                'https://t.co/bspz4l1tFM',\n",
      "                   'geo': None,\n",
      "                   'id': 1227536939479228417,\n",
      "                   'id_str': '1227536939479228417',\n",
      "                   'in_reply_to_screen_name': None,\n",
      "                   'in_reply_to_status_id': None,\n",
      "                   'in_reply_to_status_id_str': None,\n",
      "                   'in_reply_to_user_id': None,\n",
      "                   'in_reply_to_user_id_str': None,\n",
      "                   'is_quote_status': False,\n",
      "                   'lang': 'en',\n",
      "                   'metadata': {'iso_language_code': 'en',\n",
      "                                'result_type': 'popular'},\n",
      "                   'place': None,\n",
      "                   'possibly_sensitive': False,\n",
      "                   'retweet_count': 6289,\n",
      "                   'retweeted': False,\n",
      "                   'source': '<a href=\"http://twitter.com/download/iphone\" '\n",
      "                             'rel=\"nofollow\">Twitter for iPhone</a>',\n",
      "                   'truncated': False,\n",
      "                   'user': {'contributors_enabled': False,\n",
      "                            'created_at': 'Sat Apr 25 06:39:15 +0000 2015',\n",
      "                            'default_profile': True,\n",
      "                            'default_profile_image': False,\n",
      "                            'description': 'This is the official account of '\n",
      "                                           'Rahul Gandhi | Member of the '\n",
      "                                           'Indian National Congress| Member '\n",
      "                                           'of Parliament',\n",
      "                            'entities': {'description': {'urls': []},\n",
      "                                         'url': {'urls': [{'display_url': 'inc.in',\n",
      "                                                           'expanded_url': 'http://www.inc.in',\n",
      "                                                           'indices': [0, 23],\n",
      "                                                           'url': 'https://t.co/SEtVql2yKs'}]}},\n",
      "                            'favourites_count': 355,\n",
      "                            'follow_request_sent': False,\n",
      "                            'followers_count': 12215825,\n",
      "                            'following': False,\n",
      "                            'friends_count': 250,\n",
      "                            'geo_enabled': False,\n",
      "                            'has_extended_profile': True,\n",
      "                            'id': 3171712086,\n",
      "                            'id_str': '3171712086',\n",
      "                            'is_translation_enabled': False,\n",
      "                            'is_translator': False,\n",
      "                            'lang': None,\n",
      "                            'listed_count': 2875,\n",
      "                            'location': '12, Tughlak Lane, New Delhi',\n",
      "                            'name': 'Rahul Gandhi',\n",
      "                            'notifications': False,\n",
      "                            'profile_background_color': 'C0DEED',\n",
      "                            'profile_background_image_url': 'http://abs.twimg.com/images/themes/theme1/bg.png',\n",
      "                            'profile_background_image_url_https': 'https://abs.twimg.com/images/themes/theme1/bg.png',\n",
      "                            'profile_background_tile': False,\n",
      "                            'profile_banner_url': 'https://pbs.twimg.com/profile_banners/3171712086/1430826926',\n",
      "                            'profile_image_url': 'http://pbs.twimg.com/profile_images/974851878860312582/O-Zn2b72_normal.jpg',\n",
      "                            'profile_image_url_https': 'https://pbs.twimg.com/profile_images/974851878860312582/O-Zn2b72_normal.jpg',\n",
      "                            'profile_link_color': '1DA1F2',\n",
      "                            'profile_sidebar_border_color': 'C0DEED',\n",
      "                            'profile_sidebar_fill_color': 'DDEEF6',\n",
      "                            'profile_text_color': '333333',\n",
      "                            'profile_use_background_image': True,\n",
      "                            'protected': False,\n",
      "                            'screen_name': 'RahulGandhi',\n",
      "                            'statuses_count': 4537,\n",
      "                            'time_zone': None,\n",
      "                            'translator_type': 'none',\n",
      "                            'url': 'https://t.co/SEtVql2yKs',\n",
      "                            'utc_offset': None,\n",
      "                            'verified': True}},\n",
      " 'quoted_status_id': 1227536939479228417,\n",
      " 'quoted_status_id_str': '1227536939479228417',\n",
      " 'retweet_count': 5027,\n",
      " 'retweeted': False,\n",
      " 'source': '<a href=\"http://twitter.com/download/iphone\" '\n",
      "           'rel=\"nofollow\">Twitter for iPhone</a>',\n",
      " 'truncated': False,\n",
      " 'user': {'contributors_enabled': False,\n",
      "          'created_at': 'Sat Apr 25 06:39:15 +0000 2015',\n",
      "          'default_profile': True,\n",
      "          'default_profile_image': False,\n",
      "          'description': 'This is the official account of Rahul Gandhi | '\n",
      "                         'Member of the Indian National Congress| Member of '\n",
      "                         'Parliament',\n",
      "          'entities': {'description': {'urls': []},\n",
      "                       'url': {'urls': [{'display_url': 'inc.in',\n",
      "                                         'expanded_url': 'http://www.inc.in',\n",
      "                                         'indices': [0, 23],\n",
      "                                         'url': 'https://t.co/SEtVql2yKs'}]}},\n",
      "          'favourites_count': 355,\n",
      "          'follow_request_sent': False,\n",
      "          'followers_count': 12215825,\n",
      "          'following': False,\n",
      "          'friends_count': 250,\n",
      "          'geo_enabled': False,\n",
      "          'has_extended_profile': True,\n",
      "          'id': 3171712086,\n",
      "          'id_str': '3171712086',\n",
      "          'is_translation_enabled': False,\n",
      "          'is_translator': False,\n",
      "          'lang': None,\n",
      "          'listed_count': 2875,\n",
      "          'location': '12, Tughlak Lane, New Delhi',\n",
      "          'name': 'Rahul Gandhi',\n",
      "          'notifications': False,\n",
      "          'profile_background_color': 'C0DEED',\n",
      "          'profile_background_image_url': 'http://abs.twimg.com/images/themes/theme1/bg.png',\n",
      "          'profile_background_image_url_https': 'https://abs.twimg.com/images/themes/theme1/bg.png',\n",
      "          'profile_background_tile': False,\n",
      "          'profile_banner_url': 'https://pbs.twimg.com/profile_banners/3171712086/1430826926',\n",
      "          'profile_image_url': 'http://pbs.twimg.com/profile_images/974851878860312582/O-Zn2b72_normal.jpg',\n",
      "          'profile_image_url_https': 'https://pbs.twimg.com/profile_images/974851878860312582/O-Zn2b72_normal.jpg',\n",
      "          'profile_link_color': '1DA1F2',\n",
      "          'profile_sidebar_border_color': 'C0DEED',\n",
      "          'profile_sidebar_fill_color': 'DDEEF6',\n",
      "          'profile_text_color': '333333',\n",
      "          'profile_use_background_image': True,\n",
      "          'protected': False,\n",
      "          'screen_name': 'RahulGandhi',\n",
      "          'statuses_count': 4537,\n",
      "          'time_zone': None,\n",
      "          'translator_type': 'none',\n",
      "          'url': 'https://t.co/SEtVql2yKs',\n",
      "          'utc_offset': None,\n",
      "          'verified': True}}\n"
     ]
    }
   ],
   "source": [
    "for result in search_results:\n",
    "    pprint(result._json)\n",
    "    break"
   ]
  },
  {
   "cell_type": "code",
   "execution_count": null,
   "metadata": {},
   "outputs": [],
   "source": [
    "#Save the Tweets\n",
    "file_name = 'data/search_tweets.json'"
   ]
  },
  {
   "cell_type": "code",
   "execution_count": null,
   "metadata": {},
   "outputs": [],
   "source": [
    "# Iterate through search results and save the tweet\n",
    "with open(file_name, 'w') as f:\n",
    "    for tweet in search_results:\n",
    "        f.write(jsonpickle.encode(tweet._json, unpicklable=False) +\n",
    "                        '\\n')"
   ]
  },
  {
   "cell_type": "code",
   "execution_count": null,
   "metadata": {},
   "outputs": [],
   "source": [
    "# #override tweepy.StreamListener to add logic to on_status\n",
    "# class MyListener(StreamListener):\n",
    " \n",
    "#     def on_data(self, data):\n",
    "#         try:\n",
    "#             pprint(data)\n",
    "#             return True\n",
    "#         except BaseException as e:\n",
    "#             print(\"Error on_data: %s\" % str(e))\n",
    "#         return True\n",
    " \n",
    "#     def on_error(self, status):\n",
    "#         pprint(status)\n",
    "#         return True\n",
    "\n",
    "# twitter_stream = Stream(auth, MyListener())\n",
    "# twitter_stream.filter(track=query)"
   ]
  },
  {
   "cell_type": "markdown",
   "metadata": {},
   "source": [
    "\n",
    "## Analysing Twitter Data\n",
    "\n",
    "### Fetch already collected Twitter data\n",
    "In order to do any kind of analysis, we should have large amount of data. So, we would use the dataset of tweets collected using #WorldCup and can be downloaded here. Once downloaded, move the JSON file to a folder named resource in the root of the project.\n",
    "\n",
    "The dataset contains a text file containing the Twitter API responses. The structure of the tweet is same as we've seen before.\n",
    "\n",
    "#### How do I fetch this data?\n",
    "> - Import the libraries and read the file\n",
    "> - Convert the tweet string to Python dictionary"
   ]
  },
  {
   "cell_type": "code",
   "execution_count": null,
   "metadata": {},
   "outputs": [],
   "source": [
    "\n",
    "\n",
    "filename = 'data/worldcup-tweets.json'\n",
    "\n",
    "# Open the file in read mode\n",
    "with open(filename, 'r') as f:\n",
    "    tweet_string_list = f.readlines()\n",
    "    \n",
    "# Convert Tweets from string to dict\n",
    "tweet_list = []\n",
    "for string in tweet_string_list:\n",
    "    tweet_list.append(json.loads(string))"
   ]
  },
  {
   "cell_type": "code",
   "execution_count": null,
   "metadata": {},
   "outputs": [],
   "source": [
    "print(len(tweet_list))"
   ]
  },
  {
   "cell_type": "markdown",
   "metadata": {},
   "source": [
    "## Analysis 1: How many hashtags are contained in the tweets?\n",
    "\n",
    "### Calculating number of hashtags in a tweet\n",
    "From the structure of the tweet, we can see that we get this information inside the 'entities' list. All we need is the length of the 'hashtags' list.\n",
    "We define a method to do that."
   ]
  },
  {
   "cell_type": "code",
   "execution_count": null,
   "metadata": {},
   "outputs": [],
   "source": [
    "from collections import Counter, OrderedDict\n",
    "\n",
    "def get_num_of_hashtags(tweet_list):\n",
    "    '''\n",
    "    Returns the counter of number of tweets by \n",
    "    the number of hashtags used\n",
    "    '''\n",
    "    tweet_hashtags = Counter()\n",
    "    for tweet in tweet_list:\n",
    "        tweet_hashtags[len(tweet['entities']['hashtags'])] += 1\n",
    "    return tweet_hashtags"
   ]
  },
  {
   "cell_type": "code",
   "execution_count": null,
   "metadata": {},
   "outputs": [],
   "source": [
    "hashtags_counter = get_num_of_hashtags(tweet_list)\n",
    "pprint(hashtags_counter)"
   ]
  },
  {
   "cell_type": "code",
   "execution_count": null,
   "metadata": {},
   "outputs": [],
   "source": [
    "counter_dict = OrderedDict(hashtags_counter.most_common())\n",
    "pprint(counter_dict)"
   ]
  },
  {
   "cell_type": "markdown",
   "metadata": {},
   "source": [
    "### Plot the counts in form a Bar Chart\n",
    "\n",
    "The following method contains the code to plot a bar chart, given labels and their counts."
   ]
  },
  {
   "cell_type": "code",
   "execution_count": null,
   "metadata": {},
   "outputs": [],
   "source": [
    "# Get labels and counts from the dictionary\n",
    "labels = list(counter_dict.keys())\n",
    "counts = list(counter_dict.values())\n",
    "\n"
   ]
  },
  {
   "cell_type": "code",
   "execution_count": null,
   "metadata": {},
   "outputs": [],
   "source": []
  },
  {
   "cell_type": "code",
   "execution_count": null,
   "metadata": {},
   "outputs": [],
   "source": [
    "fig = go.Figure([go.Bar(x=labels, y=counts)])\n",
    "fig.show()"
   ]
  },
  {
   "cell_type": "markdown",
   "metadata": {},
   "source": [
    "## Analysis 2: Which devices were used to send these tweets?\n",
    "\n",
    "### Calculating number of tweets for most common devices used\n",
    "Again, we can find this information from our tweet data, and a 'source' field specifies this information. It looks something like this:\n",
    "\n",
    "`<a href=\"http://twitter.com/download/android\" rel=\"nofollow\">Twitter for Android</a>`\n",
    "\n",
    "Now, in order to get the text out of this HTML tag, we use regular expressions.\n",
    "### Regex method"
   ]
  },
  {
   "cell_type": "code",
   "execution_count": null,
   "metadata": {},
   "outputs": [],
   "source": [
    "\n",
    "def remove_html_tags(text):\n",
    "    '''\n",
    "    Remove html tags from a string\n",
    "    '''\n",
    "    clean = re.compile('<.*?>')\n",
    "    return re.sub(clean, '', text)"
   ]
  },
  {
   "cell_type": "markdown",
   "metadata": {},
   "source": [
    "### Count the tweet per device\n",
    "\n",
    "Once we have cleaned the HTML tags, like the previous analysis, we will need to count how many tweets from which device."
   ]
  },
  {
   "cell_type": "code",
   "execution_count": null,
   "metadata": {},
   "outputs": [],
   "source": [
    "def get_device_counts(tweet_list):\n",
    "    '''\n",
    "    Returns the 5 most common devices used to post a tweet\n",
    "    '''\n",
    "    tweet_device = Counter()\n",
    "    for tweet in tweet_list:\n",
    "        tweet_device[tweet['source']] += 1\n",
    "    tweet_device = tweet_device.most_common(5)\n",
    "    return tweet_device"
   ]
  },
  {
   "cell_type": "markdown",
   "metadata": {},
   "source": [
    "### Plot a pie chart\n",
    "We use a pie chart to show, how much percentage of the tweets were posted by which device."
   ]
  },
  {
   "cell_type": "markdown",
   "metadata": {},
   "source": [
    "### What do the numbers look like?"
   ]
  },
  {
   "cell_type": "code",
   "execution_count": null,
   "metadata": {},
   "outputs": [],
   "source": [
    "device_counter = get_device_counts(tweet_list)\n",
    "pprint(device_counter)"
   ]
  },
  {
   "cell_type": "code",
   "execution_count": null,
   "metadata": {},
   "outputs": [],
   "source": [
    "device_labels = []\n",
    "device_counts = []\n",
    "\n",
    "for tup in device_counter:\n",
    "    device_labels.append(remove_html_tags(tup[0]))\n",
    "    device_counts.append(tup[1])\n",
    "\n",
    "print(device_labels, '\\n', device_counts)"
   ]
  },
  {
   "cell_type": "code",
   "execution_count": null,
   "metadata": {},
   "outputs": [],
   "source": [
    "fig = go.Figure(data=[go.Pie(labels=device_labels, values=device_counts)])\n",
    "fig.show()"
   ]
  },
  {
   "cell_type": "markdown",
   "metadata": {},
   "source": [
    "## Analysis 3: Which words are used most often?\n",
    "\n",
    "### Let's create a word cloud! \n",
    "A word cloud or tag cloud is a form of visual representation where the size of each word, depicts its frequency in the text."
   ]
  },
  {
   "cell_type": "code",
   "execution_count": null,
   "metadata": {},
   "outputs": [],
   "source": [
    "\n",
    "\n",
    "\n",
    "def make_word_cloud(tweet_text, stopwords):        \n",
    "    ball_mask = np.array(Image.open('images/ball.jpg'))\n",
    "    \n",
    "    # Generate a word cloud image\n",
    "    wordcloud = WordCloud(background_color=\"white\", mask=ball_mask,\n",
    "               stopwords=stopwords, width=1000).generate(tweet_text)\n",
    "\n",
    "    # Display the generated image:\n",
    "    plt.figure( figsize=(20,10) )\n",
    "    plt.imshow(wordcloud, interpolation='bilinear')\n",
    "    plt.show()"
   ]
  },
  {
   "cell_type": "markdown",
   "metadata": {},
   "source": [
    "To create a word cloud, we get all the text from our tweets, and remove the stop words. Stop words are most common words in English language and don't contribute to the topic relevant words. Stop words can be article (a, an, the) or pronouns (you, we, I)."
   ]
  },
  {
   "cell_type": "code",
   "execution_count": null,
   "metadata": {},
   "outputs": [],
   "source": [
    "tweet_text = ''\n",
    "for tweet in tweet_list:\n",
    "    tweet_text += tweet['text']\n",
    "\n",
    "stopwords = set(STOPWORDS)\n",
    "stopwords.add('https')\n",
    "stopwords.add('BCwn8xx039RT')\n",
    "\n",
    "make_word_cloud(tweet_text, stopwords)"
   ]
  },
  {
   "cell_type": "markdown",
   "metadata": {},
   "source": [
    "# Basic NLP\n"
   ]
  },
  {
   "cell_type": "code",
   "execution_count": null,
   "metadata": {},
   "outputs": [],
   "source": [
    "from nltk.tokenize import sent_tokenize\n",
    "text=\"\"\"Hello Mr. Smith, how are you doing today? The weather is great, and city is awesome.\n",
    "The sky is pinkish-blue. You shouldn't eat cardboard\"\"\"\n",
    "tokenized_text=sent_tokenize(text)\n",
    "print(tokenized_text)"
   ]
  },
  {
   "cell_type": "code",
   "execution_count": null,
   "metadata": {},
   "outputs": [],
   "source": [
    "from nltk.tokenize import word_tokenize\n",
    "tokenized_word=word_tokenize(text)\n",
    "print(tokenized_word)"
   ]
  },
  {
   "cell_type": "code",
   "execution_count": null,
   "metadata": {},
   "outputs": [],
   "source": [
    "from nltk.probability import FreqDist\n",
    "fdist = FreqDist(tokenized_word)\n",
    "(fdist)"
   ]
  },
  {
   "cell_type": "code",
   "execution_count": null,
   "metadata": {},
   "outputs": [],
   "source": [
    "fdist.most_common()\n"
   ]
  },
  {
   "cell_type": "code",
   "execution_count": null,
   "metadata": {},
   "outputs": [],
   "source": [
    "import matplotlib.pyplot as plt\n",
    "fdist.plot(30,cumulative=False)\n",
    "plt.show()"
   ]
  },
  {
   "cell_type": "markdown",
   "metadata": {},
   "source": [
    "#### Zipf's law states that given a large sample of words used, the frequency of any word is inversely proportional to its rank in the frequency table. So word number n has a frequency proportional to 1/n.\n",
    "\n"
   ]
  },
  {
   "cell_type": "code",
   "execution_count": null,
   "metadata": {},
   "outputs": [],
   "source": [
    "from nltk.corpus import stopwords\n",
    "stop_words=set(stopwords.words(\"english\"))\n",
    "print(stop_words)"
   ]
  },
  {
   "cell_type": "code",
   "execution_count": null,
   "metadata": {},
   "outputs": [],
   "source": [
    "filtered_sent=[]\n",
    "for w in tokenized_word:\n",
    "    if w.lower() not in stop_words:\n",
    "        filtered_sent.append(w)\n",
    "print(\"Tokenized Sentence:\",tokenized_word)\n",
    "print(\"Filterd Sentence:\",filtered_sent)"
   ]
  },
  {
   "cell_type": "code",
   "execution_count": null,
   "metadata": {},
   "outputs": [],
   "source": [
    "# Stemming - IDK HOW GOOD THIS IS\n",
    "from nltk.stem import PorterStemmer\n",
    "from nltk.tokenize import sent_tokenize, word_tokenize\n",
    "\n",
    "ps = PorterStemmer()\n",
    "\n",
    "stemmed_words=[]\n",
    "for w in filtered_sent:\n",
    "    stemmed_words.append(ps.stem(w))\n",
    "\n",
    "print(\"Filtered Sentence:\",filtered_sent)\n",
    "print(\"Stemmed Sentence:\",stemmed_words)"
   ]
  },
  {
   "cell_type": "code",
   "execution_count": null,
   "metadata": {},
   "outputs": [],
   "source": [
    "#Lexicon Normalization\n",
    "#performing stemming and Lemmatization\n",
    "\n",
    "from nltk.stem.wordnet import WordNetLemmatizer\n",
    "lem = WordNetLemmatizer()\n",
    "\n",
    "from nltk.stem.porter import PorterStemmer\n",
    "stem = PorterStemmer()\n",
    "\n",
    "words = [\"flying\",\"crying\", \"passing\"]\n",
    "for word in words:\n",
    "    print(\"Lemmatized Word:\",lem.lemmatize(word,\"v\"))\n",
    "    print(\"Stemmed Word:\",stem.stem(word))\n",
    "    print(\"---\")"
   ]
  },
  {
   "cell_type": "code",
   "execution_count": null,
   "metadata": {},
   "outputs": [],
   "source": [
    "sent = \"Albert Einstein was born in Ulm, Germany in 1879.\"\n",
    "\n",
    "tokens=nltk.word_tokenize(sent)\n",
    "print(tokens)\n",
    "nltk.pos_tag(tokens)\n"
   ]
  },
  {
   "cell_type": "code",
   "execution_count": null,
   "metadata": {},
   "outputs": [],
   "source": [
    "from textblob import TextBlob \n",
    "sentences = [\"This is a very bad session\", \"Tennis is a good sport\", \"Tennis is the best sport\"]"
   ]
  },
  {
   "cell_type": "code",
   "execution_count": null,
   "metadata": {},
   "outputs": [],
   "source": [
    "for sent in sentences:\n",
    "    print(sent)\n",
    "    print(TextBlob(sent).sentiment)\n",
    "    print(\"---\")"
   ]
  },
  {
   "cell_type": "code",
   "execution_count": null,
   "metadata": {},
   "outputs": [],
   "source": []
  }
 ],
 "metadata": {
  "kernelspec": {
   "display_name": "Python 3",
   "language": "python",
   "name": "python3"
  },
  "language_info": {
   "codemirror_mode": {
    "name": "ipython",
    "version": 3
   },
   "file_extension": ".py",
   "mimetype": "text/x-python",
   "name": "python",
   "nbconvert_exporter": "python",
   "pygments_lexer": "ipython3",
   "version": "3.7.4"
  }
 },
 "nbformat": 4,
 "nbformat_minor": 2
}
